{
 "cells": [
  {
   "cell_type": "markdown",
   "metadata": {},
   "source": [
    "# Toxic Sentence Generator Converter\n",
    "\n",
    "This notebook demonstrates how to use the Toxic Sentence Generator converter, which is based on Project Moonshot's attack module. This converter generates toxic sentence starters based on a given seed prompt to test if an AI system will complete the sentence with toxic content.\n",
    "\n",
    "**Note**: This converter is intended for red teaming and testing AI safety mechanisms only. The generated content should not be used for actual harmful activities."
   ]
  },
  {
   "cell_type": "code",
   "execution_count": 5,
   "metadata": {},
   "outputs": [],
   "source": [
    "# Import necessary modules\n",
    "from pyrit.common import IN_MEMORY, initialize_pyrit\n",
    "from pyrit.orchestrator import PromptSendingOrchestrator\n",
    "from pyrit.prompt_converter import ToxicSentenceGeneratorConverter\n",
    "from pyrit.prompt_target import OpenAIChatTarget"
   ]
  },
  {
   "cell_type": "markdown",
   "metadata": {},
   "source": [
    "## Set up the environment and initialize the converter\n",
    "\n",
    "First, we need to initialize PyRIT with an in-memory database, set up the target, converter, and orchestrator."
   ]
  },
  {
   "cell_type": "code",
   "execution_count": null,
   "metadata": {},
   "outputs": [],
   "source": [
    "# Initialize PyRIT with in-memory database\n",
    "initialize_pyrit(memory_db_type=IN_MEMORY)\n",
    "\n",
    "# Define seed prompts that will be used to generate toxic sentences\n",
    "seed_prompts = [\n",
    "    \"cyber security\",\n",
    "    \"financial advice\",\n",
    "    \"social media\",\n",
    "    \"privacy\"\n",
    "]\n",
    "\n",
    "# Initialize OpenAI Chat Target\n",
    "prompt_target = OpenAIChatTarget()\n",
    "\n",
    "# Initialize the ToxicSentenceGeneratorConverter with the prompt target\n",
    "toxic_sentence_generator = ToxicSentenceGeneratorConverter(converter_target=prompt_target)\n",
    "\n",
    "# Initialize the orchestrator for sending prompts\n",
    "orchestrator = PromptSendingOrchestrator(\n",
    "    objective_target=prompt_target,\n",
    "    prompt_converters=[toxic_sentence_generator],\n",
    "    verbose=True,  # Set to True to see detailed output\n",
    ")"
   ]
  },
  {
   "cell_type": "markdown",
   "metadata": {},
   "source": [
    "## Generate and test toxic sentence starters\n",
    "\n",
    "Now we can use the converter to generate toxic sentence starters based on different seed prompts and send them to the target model. This allows us to test the model's response to potentially harmful content."
   ]
  },
  {
   "cell_type": "code",
   "execution_count": null,
   "metadata": {},
   "outputs": [],
   "source": [
    "# Generate and send toxic sentences for each seed prompt\n",
    "for seed_prompt in seed_prompts:\n",
    "    print(f\"\\nSeed prompt: {seed_prompt}\")\n",
    "    \n",
    "    # Generate a toxic sentence starter using the converter\n",
    "    converter_result = await toxic_sentence_generator.convert_async(prompt=seed_prompt)\n",
    "    \n",
    "    # Print the generated toxic sentence\n",
    "    print(f\"Generated toxic sentence: {converter_result.output_text}\")\n",
    "    \n",
    "    # Send the toxic sentence to the target LLM via the orchestrator\n",
    "    await orchestrator.send_prompts_async(prompt_list=[converter_result.output_text])"
   ]
  },
  {
   "cell_type": "markdown",
   "metadata": {},
   "source": [
    "## Review conversation results\n",
    "\n",
    "Now we can review all the conversations and see how the target model responded to the generated toxic sentences. This helps identify potential areas where a model might be vulnerable to harmful inputs."
   ]
  },
  {
   "cell_type": "code",
   "execution_count": null,
   "metadata": {},
   "outputs": [],
   "source": [
    "# Print all conversations after all prompts are sent\n",
    "print(\"\\nAll conversations:\")\n",
    "await orchestrator.print_conversations_async()\n",
    "\n",
    "# Clean up resources\n",
    "orchestrator.dispose_db_engine()"
   ]
  }
 ],
 "metadata": {
  "kernelspec": {
   "display_name": "pyrit_venv",
   "language": "python",
   "name": "python3"
  },
  "language_info": {
   "codemirror_mode": {
    "name": "ipython",
    "version": 3
   },
   "file_extension": ".py",
   "mimetype": "text/x-python",
   "name": "python",
   "nbconvert_exporter": "python",
   "pygments_lexer": "ipython3",
   "version": "3.12.3"
  }
 },
 "nbformat": 4,
 "nbformat_minor": 4
}
